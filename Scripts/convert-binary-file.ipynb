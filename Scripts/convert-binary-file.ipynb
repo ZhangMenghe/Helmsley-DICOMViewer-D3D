{
 "cells": [
  {
   "cell_type": "code",
   "execution_count": 4,
   "id": "6c23776f",
   "metadata": {},
   "outputs": [],
   "source": [
    "import cv2\n",
    "import matplotlib.pyplot as plt\n",
    "import numpy as np"
   ]
  },
  {
   "cell_type": "code",
   "execution_count": 27,
   "id": "e530ebdf",
   "metadata": {},
   "outputs": [
    {
     "data": {
      "text/plain": [
       "(400, 400, 4)"
      ]
     },
     "execution_count": 27,
     "metadata": {},
     "output_type": "execute_result"
    }
   ],
   "source": [
    "img = cv2.imread(\"res/gizmo.png\", -1)\n",
    "im_rgb = cv2.cvtColor(img, cv2.COLOR_BGRA2RGBA)\n",
    "im_rgb.shape"
   ]
  },
  {
   "cell_type": "code",
   "execution_count": 28,
   "id": "657657c9",
   "metadata": {},
   "outputs": [
    {
     "data": {
      "text/plain": [
       "<matplotlib.image.AxesImage at 0x1e430ba55c8>"
      ]
     },
     "execution_count": 28,
     "metadata": {},
     "output_type": "execute_result"
    },
    {
     "data": {
      "image/png": "[encoded data removed]",
      "text/plain": [
       "<Figure size 432x288 with 1 Axes>"
      ]
     },
     "metadata": {
      "needs_background": "light"
     },
     "output_type": "display_data"
    }
   ],
   "source": [
    "plt.imshow(im_rgb)"
   ]
  },
  {
   "cell_type": "code",
   "execution_count": 60,
   "id": "07c2afbb",
   "metadata": {},
   "outputs": [
    {
     "name": "stdout",
     "output_type": "stream",
     "text": [
      "640000\n"
     ]
    }
   ],
   "source": [
    "num = im_rgb.astype(np.uint8)\n",
    "arr = bytearray(num)\n",
    "print(len(arr))"
   ]
  },
  {
   "cell_type": "code",
   "execution_count": 61,
   "id": "105f68f8",
   "metadata": {},
   "outputs": [],
   "source": [
    "f=open(\"gizmo\",\"wb\")\n",
    "f.write(arr)\n",
    "f.close()"
   ]
  },
  {
   "cell_type": "code",
   "execution_count": 63,
   "id": "53419188",
   "metadata": {},
   "outputs": [
    {
     "data": {
      "text/plain": [
       "640000"
      ]
     },
     "execution_count": 63,
     "metadata": {},
     "output_type": "execute_result"
    }
   ],
   "source": [
    "f=open(\"gizmo\",\"rb\")\n",
    "content = f.read()\n",
    "len(content)\n"
   ]
  },
  {
   "cell_type": "code",
   "execution_count": 46,
   "id": "afb868a4",
   "metadata": {},
   "outputs": [
    {
     "name": "stdout",
     "output_type": "stream",
     "text": [
      "(2, 2, 3)\n",
      "[[[ 1.  2.  3.]\n",
      "  [ 2.  4.  6.]]\n",
      "\n",
      " [[ 3.  6.  9.]\n",
      "  [ 4.  8. 12.]]]\n"
     ]
    }
   ],
   "source": [
    "test = np.zeros([2,2,3])\n",
    "test[:,:,0] = np.array([[1,2],[3,4]])\n",
    "\n",
    "test[:,:,1] = test[:,:,0]*2\n",
    "test[:,:,2] =  test[:,:,0]*3\n",
    "print(test.shape)\n",
    "print(test)"
   ]
  },
  {
   "cell_type": "code",
   "execution_count": 48,
   "id": "8ee1e77f",
   "metadata": {},
   "outputs": [
    {
     "name": "stdout",
     "output_type": "stream",
     "text": [
      "bytearray(b'\\x01\\x02\\x03\\x02\\x04\\x06\\x03\\x06\\t\\x04\\x08\\x0c')\n",
      "12\n"
     ]
    }
   ],
   "source": [
    "num = test.astype(np.uint8)\n",
    "arr = bytearray(num)\n",
    "print(arr)\n",
    "print(len(arr))"
   ]
  },
  {
   "cell_type": "code",
   "execution_count": 49,
   "id": "caf23d78",
   "metadata": {},
   "outputs": [],
   "source": [
    "z = list(arr)"
   ]
  },
  {
   "cell_type": "code",
   "execution_count": 50,
   "id": "16f27991",
   "metadata": {},
   "outputs": [
    {
     "data": {
      "text/plain": [
       "[1, 2, 3, 2, 4, 6, 3, 6, 9, 4, 8, 12]"
      ]
     },
     "execution_count": 50,
     "metadata": {},
     "output_type": "execute_result"
    }
   ],
   "source": [
    "z"
   ]
  },
  {
   "cell_type": "code",
   "execution_count": 51,
   "id": "4fa64846",
   "metadata": {},
   "outputs": [
    {
     "name": "stdout",
     "output_type": "stream",
     "text": [
      "[[1. 2.]\n",
      " [3. 4.]]\n"
     ]
    }
   ],
   "source": [
    "print(test[:,:,0])"
   ]
  },
  {
   "cell_type": "code",
   "execution_count": 52,
   "id": "6ead9791",
   "metadata": {},
   "outputs": [
    {
     "name": "stdout",
     "output_type": "stream",
     "text": [
      "[[2. 4.]\n",
      " [6. 8.]]\n"
     ]
    }
   ],
   "source": [
    "print(test[:,:,1])"
   ]
  },
  {
   "cell_type": "code",
   "execution_count": 53,
   "id": "507f6fcc",
   "metadata": {},
   "outputs": [
    {
     "name": "stdout",
     "output_type": "stream",
     "text": [
      "[[ 3.  6.]\n",
      " [ 9. 12.]]\n"
     ]
    }
   ],
   "source": [
    "print(test[:,:,2])"
   ]
  },
  {
   "cell_type": "code",
   "execution_count": null,
   "id": "a5415227",
   "metadata": {},
   "outputs": [],
   "source": []
  }
 ],
 "metadata": {
  "kernelspec": {
   "display_name": "Python 3",
   "language": "python",
   "name": "python3"
  },
  "language_info": {
   "codemirror_mode": {
    "name": "ipython",
    "version": 3
   },
   "file_extension": ".py",
   "mimetype": "text/x-python",
   "name": "python",
   "nbconvert_exporter": "python",
   "pygments_lexer": "ipython3",
   "version": "3.7.9"
  }
 },
 "nbformat": 4,
 "nbformat_minor": 5
}
